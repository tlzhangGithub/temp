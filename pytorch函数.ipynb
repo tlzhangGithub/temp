{
 "cells": [
  {
   "cell_type": "code",
   "execution_count": 1,
   "id": "b9f4e8a0",
   "metadata": {},
   "outputs": [],
   "source": [
    "import torch\n",
    "import torch.nn as nn\n",
    "import numpy as np\n",
    "import scipy\n",
    "import random"
   ]
  },
  {
   "cell_type": "code",
   "execution_count": 2,
   "id": "8e9caaec",
   "metadata": {},
   "outputs": [],
   "source": [
    "np2D = np.random.randint(0,10,[2,3])\n",
    "np3D = np.random.randint(0,20,[2,3,4])\n",
    "tensordot = torch.tensor([9])\n",
    "tensor1D = torch.randint(0,10,[4])\n",
    "tensor2D = torch.randint(0,20,[2,3])\n",
    "tensor3D = torch.randint(0,20,[2,3,4])\n",
    "mat2D = torch.randint(0,10,[4,4])\n",
    "mat3D = torch.randint(0,20,[2,4,4])"
   ]
  },
  {
   "cell_type": "code",
   "execution_count": 3,
   "id": "1de8e15b",
   "metadata": {},
   "outputs": [
    {
     "name": "stdout",
     "output_type": "stream",
     "text": [
      "tensor([ 8,  7,  6, 16, 18])\n"
     ]
    }
   ],
   "source": [
    "# 根据mask挑选出element，返回1-D张量\n",
    "mask = tensor2D.ge(6.)\n",
    "masked_select1 = torch.masked_select(tensor2D, mask)\n",
    "print(masked_select1)"
   ]
  },
  {
   "cell_type": "code",
   "execution_count": 4,
   "id": "a5e419e4",
   "metadata": {},
   "outputs": [
    {
     "name": "stdout",
     "output_type": "stream",
     "text": [
      "tensor([[[ 2, 14, 18, 14],\n",
      "         [ 7,  2, 12, 12],\n",
      "         [18,  1,  3,  2]],\n",
      "\n",
      "        [[13,  0, 15, 11],\n",
      "         [19,  7,  8,  4],\n",
      "         [ 2, 18,  1, 10]]]) \n",
      "\n",
      "tensor([[[13, 14, 18, 14],\n",
      "         [19,  7, 12, 12],\n",
      "         [18, 18,  3, 10]]])\n"
     ]
    }
   ],
   "source": [
    "# gather\n",
    "dim0idx = torch.argmax(tensor3D,dim=0)\n",
    "print(tensor3D,'\\n')\n",
    "print(\n",
    "    torch.gather( input=tensor3D, dim=0, index= dim0idx.view(1,*dim0idx.size()) )\n",
    ")"
   ]
  },
  {
   "cell_type": "code",
   "execution_count": 5,
   "id": "e07e333b",
   "metadata": {},
   "outputs": [
    {
     "name": "stdout",
     "output_type": "stream",
     "text": [
      "torch.Size([1, 2, 3, 4])\n"
     ]
    }
   ],
   "source": [
    "# 增减axis\n",
    "print( torch.unsqueeze(tensor3D,dim=0).size() )"
   ]
  },
  {
   "cell_type": "code",
   "execution_count": 6,
   "id": "60d94c1e",
   "metadata": {},
   "outputs": [
    {
     "name": "stdout",
     "output_type": "stream",
     "text": [
      "torch.Size([4, 3, 2])\n",
      "torch.Size([4, 3, 2])\n",
      "\n"
     ]
    }
   ],
   "source": [
    "# 交换axis\n",
    "print( torch.transpose(tensor3D,0,2).size() )\n",
    "print( torch.swapaxes(tensor3D,0,2).size() )\n",
    "print()"
   ]
  },
  {
   "cell_type": "code",
   "execution_count": 7,
   "id": "c97b9b55",
   "metadata": {},
   "outputs": [
    {
     "data": {
      "text/plain": [
       "(tensor([[ 2, 14, 18, 14],\n",
       "         [13,  0, 15, 11]]),\n",
       " tensor([[ 7,  2, 12, 12],\n",
       "         [19,  7,  8,  4]]),\n",
       " tensor([[18,  1,  3,  2],\n",
       "         [ 2, 18,  1, 10]]))"
      ]
     },
     "execution_count": 7,
     "metadata": {},
     "output_type": "execute_result"
    }
   ],
   "source": [
    "# 消除tensor的某个dimension\n",
    "torch.unbind( tensor3D, dim=1 )"
   ]
  },
  {
   "cell_type": "code",
   "execution_count": 8,
   "id": "7b44520a",
   "metadata": {},
   "outputs": [
    {
     "name": "stdout",
     "output_type": "stream",
     "text": [
      "torch.Size([4, 3, 12])\n"
     ]
    }
   ],
   "source": [
    "# tile重复堆积tensor\n",
    "print( torch.tile(tensor3D, [2,1,3]).size() )"
   ]
  },
  {
   "cell_type": "code",
   "execution_count": 9,
   "id": "07f9c653",
   "metadata": {},
   "outputs": [
    {
     "data": {
      "text/plain": [
       "tensor([[   8, -100,    7],\n",
       "        [-100,   16,   18]])"
      ]
     },
     "execution_count": 9,
     "metadata": {},
     "output_type": "execute_result"
    }
   ],
   "source": [
    "# 在2个tensor之间选择\n",
    "torch.where( tensor2D>6, tensor2D, -100)"
   ]
  },
  {
   "cell_type": "markdown",
   "id": "66e10610",
   "metadata": {},
   "source": [
    "数学操作，逐点式的"
   ]
  },
  {
   "cell_type": "code",
   "execution_count": 27,
   "id": "c1f38f87",
   "metadata": {
    "scrolled": true
   },
   "outputs": [
    {
     "name": "stdout",
     "output_type": "stream",
     "text": [
      "tensor([[ 8,  5,  7],\n",
      "        [ 6, 16, 18]]) \n",
      "\n",
      "指数\n",
      "tensor([[2.9810e+03, 1.4841e+02, 1.0966e+03],\n",
      "        [4.0343e+02, 8.8861e+06, 6.5660e+07]])\n",
      "幂次\n",
      "tensor([[ 64,  25,  49],\n",
      "        [ 36, 256, 324]])\n",
      "对数\n",
      "tensor([[0.9031, 0.6990, 0.8451],\n",
      "        [0.7782, 1.2041, 1.2553]])\n",
      "逻辑运算\n",
      "tensor([[False, False, False],\n",
      "        [False, False, False]])\n",
      "算数加法\n",
      "tensor([[10.0794,  6.6094,  8.9459],\n",
      "        [ 7.7918, 18.7726, 20.8904]])\n",
      "算数乘法\n",
      "tensor([[24, 15, 21],\n",
      "        [18, 48, 54]])\n",
      "负数\n",
      "tensor([[ -8,  -5,  -7],\n",
      "        [ -6, -16, -18]])\n",
      "平方square\n",
      "tensor([[ 64,  25,  49],\n",
      "        [ 36, 256, 324]])\n",
      "square root\n",
      "tensor([[2.8284, 2.2361, 2.6458],\n",
      "        [2.4495, 4.0000, 4.2426]])\n",
      "逻辑斯蒂\n",
      "tensor([[0.9997, 0.9933, 0.9991],\n",
      "        [0.9975, 1.0000, 1.0000]])\n",
      "sign标志\n",
      "tensor([[1, 1, 1],\n",
      "        [1, 1, 1]])\n",
      "截取整数\n",
      "tensor([[ 1.1237, -0.9470, -0.8959, -0.3733, -0.3131],\n",
      "        [-0.2044, -0.5467,  1.5259, -1.1746, -0.4342]]) \n",
      "\n",
      "tensor([[1., 0., 1., -0., -0.],\n",
      "        [0., -0., 0., -0., 0.]])\n"
     ]
    }
   ],
   "source": [
    "print(tensor2D,'\\n')\n",
    "print('指数')\n",
    "print(torch.exp(tensor2D))\n",
    "print('幂次')\n",
    "print(torch.pow(tensor2D,2))\n",
    "print('对数')\n",
    "print(torch.log10(tensor2D))\n",
    "print('逻辑运算')\n",
    "print(torch.logical_not(tensor2D))\n",
    "print('算数加法')\n",
    "print(torch.add(tensor2D, torch.log(tensor2D)))\n",
    "print('算数乘法')\n",
    "print(torch.mul(tensor2D,3))\n",
    "print('负数')\n",
    "print(torch.negative(tensor2D))\n",
    "print('平方square')\n",
    "print(torch.square(tensor2D))\n",
    "print('square root')\n",
    "print(torch.sqrt(tensor2D))\n",
    "print('逻辑斯蒂')\n",
    "print(torch.sigmoid(tensor2D))\n",
    "print('sign标志')\n",
    "print(torch.sign(tensor2D))\n",
    "print('截取整数')\n",
    "print(torch.randn(2,5), '\\n')\n",
    "print(torch.trunc(torch.randn(2,5)))"
   ]
  },
  {
   "cell_type": "markdown",
   "id": "253c075a",
   "metadata": {},
   "source": [
    "数学操作，约简式的"
   ]
  },
  {
   "cell_type": "code",
   "execution_count": 52,
   "id": "b2caf51b",
   "metadata": {
    "collapsed": true
   },
   "outputs": [
    {
     "name": "stdout",
     "output_type": "stream",
     "text": [
      "tensor([[ 8,  5,  7],\n",
      "        [ 6, 16, 18]]) \n",
      "\n",
      "极值\n",
      "tensor([ 8, 16, 18])\n",
      "tensor([ 8, 16, 18])\n",
      "极值索引\n",
      "tensor([0, 1, 1])\n",
      "tensor([0, 1, 1])\n",
      "均值\n",
      "tensor([ 6.6667, 13.3333])\n",
      "非nan均值\n",
      "tensor([ 6.6667, 13.3333])\n",
      "标准差\n",
      "tensor([1.4142, 7.7782, 7.7782])\n",
      "和\n",
      "tensor([14, 21, 25])\n",
      "非nan和\n",
      "tensor([14, 21, 25])\n",
      "积\n",
      "tensor([ 280, 1728])\n",
      "唯一值\n",
      "tensor([ 5,  6,  7,  8, 16, 18])\n",
      "非零计数\n",
      "tensor(6)\n",
      "布尔值统计\n",
      "tensor([True, True, True])\n",
      "tensor([True, True, True])\n"
     ]
    }
   ],
   "source": [
    "print(tensor2D,'\\n')\n",
    "print('极值')\n",
    "print(torch.amax(tensor2D,0))\n",
    "print(torch.max(tensor2D,0)[0])\n",
    "print('极值索引')\n",
    "print(torch.argmax(tensor2D,0))\n",
    "print(torch.max(tensor2D,0).indices)\n",
    "print('均值')\n",
    "print(torch.mean(tensor2D.type(torch.float),1))\n",
    "print('非nan均值')\n",
    "print(torch.nanmean(tensor2D.to(torch.float),1))\n",
    "print('标准差')\n",
    "print(torch.std(tensor2D.type(torch.float),0))\n",
    "print('和')\n",
    "print(torch.sum(tensor2D,0))\n",
    "print('非nan和')\n",
    "print(torch.nansum(tensor2D,0))\n",
    "print('积')\n",
    "print(torch.prod(tensor2D,1))\n",
    "print('唯一值')\n",
    "print(torch.unique(tensor2D))\n",
    "print('非零计数')\n",
    "print(torch.count_nonzero(tensor2D))\n",
    "print('布尔值统计')\n",
    "print(torch.all(tensor2D,0))\n",
    "print(torch.any(tensor2D,0))"
   ]
  },
  {
   "cell_type": "markdown",
   "id": "ac23341c",
   "metadata": {},
   "source": [
    "数学操作，比较"
   ]
  },
  {
   "cell_type": "code",
   "execution_count": null,
   "id": "9cda3681",
   "metadata": {},
   "outputs": [],
   "source": []
  },
  {
   "cell_type": "code",
   "execution_count": null,
   "id": "d70b3517",
   "metadata": {},
   "outputs": [],
   "source": []
  },
  {
   "cell_type": "code",
   "execution_count": null,
   "id": "b1ee1aaf",
   "metadata": {},
   "outputs": [],
   "source": []
  },
  {
   "cell_type": "code",
   "execution_count": null,
   "id": "613a4ad6",
   "metadata": {},
   "outputs": [],
   "source": []
  }
 ],
 "metadata": {
  "kernelspec": {
   "display_name": "Python 3",
   "language": "python",
   "name": "python3"
  },
  "language_info": {
   "codemirror_mode": {
    "name": "ipython",
    "version": 3
   },
   "file_extension": ".py",
   "mimetype": "text/x-python",
   "name": "python",
   "nbconvert_exporter": "python",
   "pygments_lexer": "ipython3",
   "version": "3.8.10"
  }
 },
 "nbformat": 4,
 "nbformat_minor": 5
}
