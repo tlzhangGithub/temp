{
 "cells": [
  {
   "cell_type": "code",
   "execution_count": 1,
   "id": "a4762268",
   "metadata": {},
   "outputs": [],
   "source": [
    "import torch\n",
    "import torch.nn as nn\n",
    "import torch.nn.functional as F\n",
    "import numpy as np\n",
    "import scipy"
   ]
  },
  {
   "cell_type": "code",
   "execution_count": 2,
   "id": "6b9aaf70",
   "metadata": {},
   "outputs": [],
   "source": [
    "np2D = np.random.randint(0,10,[2,3])\n",
    "np3D = np.random.randint(0,20,[2,3,4])\n",
    "tensordot = torch.tensor([9])\n",
    "tensor1D = torch.randint(0,10,[4])\n",
    "tensor2D = torch.randint(0,20,[2,3])\n",
    "tensor3D = torch.randint(0,20,[2,3,4])\n",
    "mat2D = torch.randint(0,10,[4,4])\n",
    "mat3D = torch.randint(0,20,[2,4,4])"
   ]
  },
  {
   "cell_type": "code",
   "execution_count": 3,
   "id": "72da1708",
   "metadata": {},
   "outputs": [
    {
     "name": "stdout",
     "output_type": "stream",
     "text": [
      "是不是张量：True\n"
     ]
    }
   ],
   "source": [
    "is_tensor = torch.is_tensor(tensor2D)\n",
    "print(f'是不是张量：{is_tensor}')"
   ]
  },
  {
   "cell_type": "code",
   "execution_count": 4,
   "id": "c7b8e277",
   "metadata": {},
   "outputs": [
    {
     "name": "stdout",
     "output_type": "stream",
     "text": [
      "非零吗：True\n"
     ]
    }
   ],
   "source": [
    "nonzero = torch.is_nonzero(tensordot)\n",
    "print(f'非零吗：{nonzero}')"
   ]
  },
  {
   "cell_type": "code",
   "execution_count": 5,
   "id": "8d546520",
   "metadata": {},
   "outputs": [
    {
     "name": "stdout",
     "output_type": "stream",
     "text": [
      "元素数量：24\n"
     ]
    }
   ],
   "source": [
    "numel = torch.numel(tensor3D)\n",
    "print(f'元素数量：{numel}')"
   ]
  },
  {
   "cell_type": "code",
   "execution_count": 6,
   "id": "0b116a9e",
   "metadata": {},
   "outputs": [
    {
     "name": "stdout",
     "output_type": "stream",
     "text": [
      "创建张量:\n",
      "tensor([[1., 1., 7.],\n",
      "        [1., 5., 2.]], dtype=torch.float64)\n",
      "tensor([[2, 3],\n",
      "        [6, 7]], dtype=torch.int32)\n"
     ]
    }
   ],
   "source": [
    "tensor1 = torch.tensor(np2D, dtype=float)\n",
    "tensor2 = torch.tensor([[2,3],[6,7]], dtype=torch.int32)\n",
    "print(f'创建张量:\\n{tensor1}\\n{tensor2}')"
   ]
  },
  {
   "cell_type": "code",
   "execution_count": 7,
   "id": "7a25f85c",
   "metadata": {},
   "outputs": [
    {
     "data": {
      "text/plain": [
       "tensor([ 8, 10])"
      ]
     },
     "execution_count": 7,
     "metadata": {},
     "output_type": "execute_result"
    }
   ],
   "source": [
    "# asarray 略\n",
    "torch.asarray([8,10])"
   ]
  },
  {
   "cell_type": "code",
   "execution_count": 8,
   "id": "8534817c",
   "metadata": {},
   "outputs": [
    {
     "name": "stdout",
     "output_type": "stream",
     "text": [
      "查看id是否相同：\n",
      "2496467875088  2496467991344\n",
      "2496467991504  2496467991504\n"
     ]
    }
   ],
   "source": [
    "# as_tensor创建tensor\n",
    "as_tensor1 = torch.as_tensor(np2D)\n",
    "as_tensor2 = torch.as_tensor(tensor2D)\n",
    "print(f'查看id是否相同：\\n{id(np2D)}  {id(as_tensor1)}\\n{id(tensor2D)}  {id(as_tensor2)}')"
   ]
  },
  {
   "cell_type": "code",
   "execution_count": 9,
   "id": "5f54419b",
   "metadata": {},
   "outputs": [
    {
     "name": "stdout",
     "output_type": "stream",
     "text": [
      "tensor([[1, 1, 7],\n",
      "        [1, 5, 2]], dtype=torch.int32)\n"
     ]
    }
   ],
   "source": [
    "from_numpy1 = torch.from_numpy(np2D)\n",
    "print(from_numpy1)"
   ]
  },
  {
   "cell_type": "code",
   "execution_count": 10,
   "id": "809c393e",
   "metadata": {},
   "outputs": [
    {
     "name": "stdout",
     "output_type": "stream",
     "text": [
      "tensor([0, 2, 4, 6, 8]) \n",
      " tensor([1., 2., 3., 4., 5., 6., 7., 8.]) \n",
      " tensor([1.0000e+01, 1.0000e+02, 1.0000e+03, 1.0000e+04, 1.0000e+05, 1.0000e+06,\n",
      "        1.0000e+07, 1.0000e+08])\n"
     ]
    }
   ],
   "source": [
    "arange1 = torch.arange(0,10,step=2)\n",
    "linspace1 = torch.linspace(1,8,steps=8)\n",
    "logspace1 = torch.logspace(1,8,steps=8)\n",
    "print(arange1,'\\n',linspace1,'\\n',logspace1)"
   ]
  },
  {
   "cell_type": "code",
   "execution_count": 11,
   "id": "1fc07b1e",
   "metadata": {},
   "outputs": [
    {
     "name": "stdout",
     "output_type": "stream",
     "text": [
      "tensor([[3.1416, 3.1416, 3.1416],\n",
      "        [3.1416, 3.1416, 3.1416]], dtype=torch.float64) \n",
      " tensor([[3.1416, 3.1416, 3.1416],\n",
      "        [3.1416, 3.1416, 3.1416]])\n"
     ]
    }
   ],
   "source": [
    "full1 = torch.full([2,3], 3.1415926, dtype=torch.float64)\n",
    "full2 = torch.full_like(tensor2D, 3.14159)\n",
    "print(full1,'\\n',full2)"
   ]
  },
  {
   "cell_type": "code",
   "execution_count": 12,
   "id": "e03e82cb",
   "metadata": {},
   "outputs": [
    {
     "name": "stdout",
     "output_type": "stream",
     "text": [
      "2 \n",
      " torch.Size([22, 3])\n",
      "torch.Size([22, 3])\n"
     ]
    }
   ],
   "source": [
    "# 返回每个非0 element的索引\n",
    "argwhere1 = torch.argwhere(tensor3D)\n",
    "print(argwhere1.dim(),'\\n',argwhere1.size())\n",
    "print( torch.nonzero(tensor3D).size() )"
   ]
  },
  {
   "cell_type": "code",
   "execution_count": 13,
   "id": "b36d7068",
   "metadata": {},
   "outputs": [
    {
     "name": "stdout",
     "output_type": "stream",
     "text": [
      "torch.Size([2, 3, 4])\n",
      "          stack函数，添加额外的axis\n",
      "torch.Size([2, 3, 5, 4])\n",
      "          第1个axis上cat，vstack、row_stack\n",
      "torch.Size([10, 3, 4])\n",
      "torch.Size([10, 3, 4])\n",
      "          第2个axis上cat，hstack、column_stack\n",
      "torch.Size([2, 15, 4])\n",
      "torch.Size([2, 15, 4])\n",
      "          第3个axis上cat，dstack\n",
      "torch.Size([2, 3, 20])\n"
     ]
    }
   ],
   "source": [
    "# stack拼接的4类/共6个函数\n",
    "print(tensor3D.size())\n",
    "print(f'{\"\":>10}stack函数，添加额外的axis')\n",
    "print(torch.stack([tensor3D,tensor3D,tensor3D,tensor3D,tensor3D],dim=2).size())\n",
    "print(f'{\"\":>10}第1个axis上cat，vstack、row_stack')\n",
    "print(torch.vstack([tensor3D,tensor3D,tensor3D,tensor3D,tensor3D]).size())\n",
    "print(torch.row_stack([tensor3D,tensor3D,tensor3D,tensor3D,tensor3D]).size())\n",
    "print(f'{\"\":>10}第2个axis上cat，hstack、column_stack')\n",
    "print(torch.hstack([tensor3D,tensor3D,tensor3D,tensor3D,tensor3D]).size())\n",
    "print(torch.column_stack([tensor3D,tensor3D,tensor3D,tensor3D,tensor3D]).size())\n",
    "print(f'{\"\":>10}第3个axis上cat，dstack')\n",
    "print(torch.dstack([tensor3D,tensor3D,tensor3D,tensor3D,tensor3D]).size())"
   ]
  },
  {
   "cell_type": "code",
   "execution_count": 14,
   "id": "6106d16a",
   "metadata": {},
   "outputs": [
    {
     "name": "stdout",
     "output_type": "stream",
     "text": [
      "torch.Size([2, 3, 4])\n",
      "torch.Size([2, 3, 2])\n",
      "torch.Size([2, 2, 4])\n",
      "torch.Size([2, 3, 2])\n"
     ]
    }
   ],
   "source": [
    "# split切分数据\n",
    "print(tensor3D.size())\n",
    "print(\n",
    "    torch.tensor_split(tensor3D,[1,3],dim=2)[1].size()\n",
    ")\n",
    "print(\n",
    "    torch.hsplit(tensor3D,[1,3])[1].size()\n",
    ")\n",
    "print(\n",
    "    torch.split(tensor3D,[1,2,1],dim=2)[1].size()\n",
    ")"
   ]
  },
  {
   "cell_type": "code",
   "execution_count": 15,
   "id": "ac244c77",
   "metadata": {},
   "outputs": [
    {
     "data": {
      "text/plain": [
       "(tensor([[[ 3.,  8.],\n",
       "          [19.,  5.],\n",
       "          [ 5.,  4.]],\n",
       " \n",
       "         [[19., 17.],\n",
       "          [ 5.,  0.],\n",
       "          [11., 12.]]]),\n",
       " tensor([[[ 1., 11.],\n",
       "          [ 3.,  0.],\n",
       "          [ 9., 11.]],\n",
       " \n",
       "         [[ 2., 13.],\n",
       "          [10., 18.],\n",
       "          [17.,  4.]]]))"
      ]
     },
     "execution_count": 15,
     "metadata": {},
     "output_type": "execute_result"
    }
   ],
   "source": [
    "# 分块，number of chunks\n",
    "torch.chunk(tensor3D, 3, dim=-1)"
   ]
  },
  {
   "cell_type": "code",
   "execution_count": 16,
   "id": "513db1a6",
   "metadata": {},
   "outputs": [
    {
     "name": "stdout",
     "output_type": "stream",
     "text": [
      "torch.Size([4, 3, 2])\n"
     ]
    }
   ],
   "source": [
    "# movedim和permute，都是view视图\n",
    "print( torch.movedim(tensor3D,[2,0],[0,2]).size() )"
   ]
  },
  {
   "cell_type": "code",
   "execution_count": 17,
   "id": "fdfc1f51",
   "metadata": {},
   "outputs": [
    {
     "name": "stdout",
     "output_type": "stream",
     "text": [
      "torch.Size([2, 3, 3])\n"
     ]
    }
   ],
   "source": [
    "print( torch.narrow(tensor3D,2,1,3).size() )"
   ]
  },
  {
   "cell_type": "code",
   "execution_count": 18,
   "id": "09ec7df0",
   "metadata": {},
   "outputs": [
    {
     "name": "stdout",
     "output_type": "stream",
     "text": [
      "tensor([[[ 3.,  8.,  1., 11.],\n",
      "         [19.,  5.,  3.,  0.],\n",
      "         [ 5.,  4.,  9., 11.]],\n",
      "\n",
      "        [[19., 17.,  2., 13.],\n",
      "         [ 5.,  0., 10., 18.],\n",
      "         [11., 12., 17.,  4.]]]) \n",
      "\n",
      "gather一下:\n",
      "\n",
      "tensor([[[19., 17.,  2., 13.],\n",
      "         [19.,  5., 10., 18.],\n",
      "         [11., 12., 17., 11.]]])\n"
     ]
    }
   ],
   "source": [
    "# gather\n",
    "dim0idx = torch.argmax(tensor3D,dim=0,keepdim=True)\n",
    "print(tensor3D,'\\n\\ngather一下:\\n')\n",
    "print( torch.gather(tensor3D,0,dim0idx) )"
   ]
  },
  {
   "cell_type": "markdown",
   "id": "075afa51",
   "metadata": {},
   "source": [
    "数学操作，比较"
   ]
  },
  {
   "cell_type": "code",
   "execution_count": 19,
   "id": "c0431463",
   "metadata": {},
   "outputs": [
    {
     "name": "stdout",
     "output_type": "stream",
     "text": [
      "tensor([[3., 7., 8.],\n",
      "        [3., 4., 3.]]) \n",
      "\n",
      "排序值\n",
      "tensor([[3., 7., 8.],\n",
      "        [3., 3., 4.]])\n",
      "排序索引\n",
      "tensor([[0, 1, 2],\n",
      "        [0, 2, 1]])\n",
      "排序索引\n",
      "tensor([[0, 1, 2],\n",
      "        [0, 2, 1]])\n",
      "topk\n",
      "tensor([[8., 7.],\n",
      "        [4., 3.]]) \n",
      " tensor([[2, 1],\n",
      "        [1, 0]])\n",
      "大小比较\n",
      "tensor([[False,  True,  True],\n",
      "        [False, False, False]])\n"
     ]
    }
   ],
   "source": [
    "print(tensor2D,'\\n')\n",
    "print('排序值')\n",
    "print(torch.sort(tensor2D,dim=1).values)\n",
    "print('排序索引')\n",
    "print(torch.argsort(tensor2D,dim=1))\n",
    "print('排序索引')\n",
    "print(torch.sort(tensor2D,1)[1])\n",
    "print('topk')\n",
    "print(torch.topk(tensor2D,k=2,dim=1)[0],'\\n',torch.topk(tensor2D,k=2,dim=1).indices)\n",
    "print('大小比较')\n",
    "print(torch.gt(tensor2D,6))"
   ]
  },
  {
   "cell_type": "code",
   "execution_count": 20,
   "id": "0c0d982a",
   "metadata": {},
   "outputs": [],
   "source": [
    "mat4D = torch.randint(0,30,[2,3,4,4,])"
   ]
  },
  {
   "cell_type": "code",
   "execution_count": 21,
   "id": "345c2c5f",
   "metadata": {
    "scrolled": true
   },
   "outputs": [
    {
     "name": "stdout",
     "output_type": "stream",
     "text": [
      "tensor([[[[ 7, 14,  0, 17],\n",
      "          [10,  3, 18, 12],\n",
      "          [ 5, 19, 25, 16],\n",
      "          [18, 15, 27,  7]],\n",
      "\n",
      "         [[ 0, 17,  7,  5],\n",
      "          [17,  0, 22, 24],\n",
      "          [26, 28,  7, 28],\n",
      "          [ 9,  8, 12,  3]],\n",
      "\n",
      "         [[ 5,  2, 18, 24],\n",
      "          [ 4, 10, 16, 21],\n",
      "          [ 9, 14,  9, 11],\n",
      "          [24, 20,  9, 27]]],\n",
      "\n",
      "\n",
      "        [[[ 0, 25,  2,  1],\n",
      "          [26, 16,  8, 22],\n",
      "          [ 0, 19, 24,  8],\n",
      "          [21, 26, 20, 26]],\n",
      "\n",
      "         [[ 5, 19,  7,  4],\n",
      "          [22,  6, 24,  1],\n",
      "          [18, 11, 19, 29],\n",
      "          [ 7, 20, 26, 21]],\n",
      "\n",
      "         [[11, 19, 10, 29],\n",
      "          [20, 26,  7, 17],\n",
      "          [ 4, 17, 20, 17],\n",
      "          [11,  9, 13, 17]]]])\n",
      "tensor([[[ 7, 17,  9],\n",
      "         [14,  0, 14],\n",
      "         [ 0, 22,  9],\n",
      "         [17, 24, 11]],\n",
      "\n",
      "        [[ 0, 22,  4],\n",
      "         [25,  6, 17],\n",
      "         [ 2, 24, 20],\n",
      "         [ 1,  1, 17]]])\n"
     ]
    }
   ],
   "source": [
    "print(mat4D)\n",
    "print(torch.diagonal(mat4D,0,1,2))"
   ]
  },
  {
   "cell_type": "code",
   "execution_count": 22,
   "id": "29d11eb9",
   "metadata": {},
   "outputs": [
    {
     "name": "stdout",
     "output_type": "stream",
     "text": [
      "tensor([[3., 7., 8.],\n",
      "        [3., 4., 3.]])\n",
      "tensor([[4., 3., 3.],\n",
      "        [7., 8., 3.]])\n"
     ]
    }
   ],
   "source": [
    "print(tensor2D)\n",
    "print(torch.roll(tensor2D,[1,2],[0,1]))"
   ]
  },
  {
   "cell_type": "code",
   "execution_count": null,
   "id": "f5fe5735",
   "metadata": {},
   "outputs": [],
   "source": []
  },
  {
   "cell_type": "code",
   "execution_count": null,
   "id": "0c5718fe",
   "metadata": {},
   "outputs": [],
   "source": []
  },
  {
   "cell_type": "code",
   "execution_count": null,
   "id": "dfb8dd58",
   "metadata": {},
   "outputs": [],
   "source": []
  },
  {
   "cell_type": "code",
   "execution_count": null,
   "id": "ea52242e",
   "metadata": {},
   "outputs": [],
   "source": []
  },
  {
   "cell_type": "code",
   "execution_count": null,
   "id": "4ce410f2",
   "metadata": {},
   "outputs": [],
   "source": []
  },
  {
   "cell_type": "code",
   "execution_count": null,
   "id": "2240f517",
   "metadata": {},
   "outputs": [],
   "source": []
  },
  {
   "cell_type": "code",
   "execution_count": null,
   "id": "dbf969b7",
   "metadata": {},
   "outputs": [],
   "source": []
  },
  {
   "cell_type": "code",
   "execution_count": null,
   "id": "1a4db2d2",
   "metadata": {},
   "outputs": [],
   "source": []
  },
  {
   "cell_type": "code",
   "execution_count": null,
   "id": "5fe55ff8",
   "metadata": {},
   "outputs": [],
   "source": []
  },
  {
   "cell_type": "code",
   "execution_count": null,
   "id": "ba991b68",
   "metadata": {},
   "outputs": [],
   "source": []
  },
  {
   "cell_type": "code",
   "execution_count": null,
   "id": "88878a20",
   "metadata": {},
   "outputs": [],
   "source": []
  },
  {
   "cell_type": "code",
   "execution_count": null,
   "id": "b575ef9f",
   "metadata": {},
   "outputs": [],
   "source": []
  },
  {
   "cell_type": "code",
   "execution_count": null,
   "id": "938238fc",
   "metadata": {},
   "outputs": [],
   "source": []
  },
  {
   "cell_type": "code",
   "execution_count": null,
   "id": "60632bab",
   "metadata": {},
   "outputs": [],
   "source": []
  },
  {
   "cell_type": "code",
   "execution_count": null,
   "id": "327b3c12",
   "metadata": {},
   "outputs": [],
   "source": []
  }
 ],
 "metadata": {
  "kernelspec": {
   "display_name": "Python 3 (ipykernel)",
   "language": "python",
   "name": "python3"
  },
  "language_info": {
   "codemirror_mode": {
    "name": "ipython",
    "version": 3
   },
   "file_extension": ".py",
   "mimetype": "text/x-python",
   "name": "python",
   "nbconvert_exporter": "python",
   "pygments_lexer": "ipython3",
   "version": "3.9.12"
  }
 },
 "nbformat": 4,
 "nbformat_minor": 5
}
